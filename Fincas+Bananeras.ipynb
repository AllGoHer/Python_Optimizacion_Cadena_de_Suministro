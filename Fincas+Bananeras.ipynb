{
 "cells": [
  {
   "cell_type": "markdown",
   "id": "00fa5f37",
   "metadata": {},
   "source": [
    "# Optimización de la Cadena de Suministro de Banano en Ecuador\n",
    "\n",
    "## Contexto\n",
    "Ecuador, reconocido como líder mundial en la exportación de banano, enfrenta el desafío de optimizar su cadena de suministro. El país necesita gestionar de manera eficiente el transporte de banano desde las principales zonas productoras en las provincias de El Oro, Guayas y Los Ríos hasta sus puertos de exportación. Este ejercicio propone un modelo complejo que considera varias plantaciones y la demanda en los puertos, influenciada por las rutas comerciales internacionales.\n",
    "\n",
    "## Objetivo\n",
    "El principal objetivo es minimizar los costos totales de transporte. Esto incluye considerar las capacidades de producción en cada plantación, las necesidades de los mercados internacionales y la disponibilidad de rutas de transporte marítimo.\n",
    "\n",
    "## Datos del Problema\n",
    "\n",
    "### Capacidad de Producción de las Plantaciones (en toneladas)\n",
    "- **El Oro**:\n",
    "  - Machala: 700 ton\n",
    "  - Pasaje: 650 ton\n",
    "- **Guayas**:\n",
    "  - Naranjal: 750 ton\n",
    "  - Milagro: 775 ton\n",
    "- **Los Ríos**:\n",
    "  - Babahoyo: 650 ton\n",
    "  - Quevedo: 725 ton\n",
    "\n",
    "### Demanda en los Puertos (desglosada por país y estado de EE.UU., en toneladas)\n",
    "- **Guayaquil**:\n",
    "  - España: 350 ton\n",
    "  - Alemania: 250 ton\n",
    "  - Florida, EE.UU.: 500 ton\n",
    "- **Manta**:\n",
    "  - México: 450 ton\n",
    "  - Italia: 200 ton\n",
    "  - California, EE.UU.: 300 ton\n",
    "- **Puerto Bolívar**:\n",
    "  - Estados Unidos (Texas): 400 ton\n",
    "  - Canadá: 300 ton\n",
    "  - Reino Unido: 300 ton\n",
    "- **Esmeraldas**:\n",
    "  - Francia: 250 ton\n",
    "  - Reino Unido: 200 ton\n",
    "  - Japón: 350 ton\n",
    "\n",
    "### Costos de Transporte (USD por tonelada)\n",
    "Los costos de transporte se calcularán basándose en la distancia desde cada plantación hasta los distintos puertos, asumiendo un costo promedio de $0.20 USD por kilómetro por tonelada.\n",
    "\n",
    "## Tareas\n",
    "- Modelar el problema utilizando la programación lineal.\n",
    "- Definir variables de decisión para las toneladas de banano a transportar desde cada plantación a cada puerto.\n",
    "- Establecer una función objetivo para minimizar el costo total del transporte.\n",
    "- Incluir restricciones para respetar la capacidad de producción y satisfacer la demanda de cada puerto.\n",
    "- Analizar los resultados para entender la distribución óptima y el costo total del transporte.\n",
    "\n",
    "Este ejercicio es una oportunidad para aplicar conocimientos avanzados de programación lineal y logística en un contexto real y complejo.\n"
   ]
  },
  {
   "cell_type": "code",
   "execution_count": 105,
   "id": "b91715a9",
   "metadata": {},
   "outputs": [],
   "source": [
    "# Importar bibliotecas"
   ]
  },
  {
   "cell_type": "code",
   "execution_count": 106,
   "id": "d05fda3e",
   "metadata": {},
   "outputs": [],
   "source": [
    "from pyomo.environ import *"
   ]
  },
  {
   "cell_type": "code",
   "execution_count": 107,
   "id": "984fd577",
   "metadata": {},
   "outputs": [],
   "source": [
    "# Datos del problema"
   ]
  },
  {
   "cell_type": "code",
   "execution_count": 108,
   "id": "48955dcd",
   "metadata": {},
   "outputs": [],
   "source": [
    "# Oferta\n",
    "# Capacidad en Toneladas de las diferenets fincas"
   ]
  },
  {
   "cell_type": "code",
   "execution_count": 109,
   "id": "d65d602f",
   "metadata": {},
   "outputs": [],
   "source": [
    "Oferta = {\n",
    "    'Machala': 700, 'Pasaje': 650,\n",
    "    'Naranjal': 750, 'Milagro': 775,\n",
    "    'Babahoyo': 650, 'Quevedo': 725\n",
    "}"
   ]
  },
  {
   "cell_type": "code",
   "execution_count": 110,
   "id": "7cff3e5a",
   "metadata": {},
   "outputs": [],
   "source": [
    "# Demanda Agregada por Puerto.\n",
    "# Recordemos, la demanda no la genera el puerto sino el país con una \"conexión\" con un puerto determinado.\n",
    "# Lo que presentamos es una demanda agregada por puerto."
   ]
  },
  {
   "cell_type": "code",
   "execution_count": 111,
   "id": "24a65dc8",
   "metadata": {},
   "outputs": [],
   "source": [
    "Demanda = {\n",
    "    'Guayaquil': 1100,\n",
    "    'Manta': 950,\n",
    "    'Puerto Bolívar': 1000,\n",
    "    'Esmeraldas': 800 \n",
    "}"
   ]
  },
  {
   "cell_type": "code",
   "execution_count": 112,
   "id": "1ee8aa01",
   "metadata": {},
   "outputs": [],
   "source": [
    "# Costos"
   ]
  },
  {
   "cell_type": "code",
   "execution_count": 113,
   "id": "ed9942a7",
   "metadata": {},
   "outputs": [],
   "source": [
    "Costos = {\n",
    " ('Machala', 'Guayaquil'): 38.0,\n",
    " ('Machala', 'Manta'): 58.0,\n",
    " ('Machala', 'Puerto Bolívar'): 24.0,\n",
    " ('Machala', 'Esmeraldas'): 84.0,\n",
    " ('Pasaje', 'Guayaquil'): 36.0,\n",
    " ('Pasaje', 'Manta'): 56.0,\n",
    " ('Pasaje', 'Puerto Bolívar'): 22.0,\n",
    " ('Pasaje', 'Esmeraldas'): 82.0,\n",
    " ('Naranjal', 'Guayaquil'): 12.0,\n",
    " ('Naranjal', 'Manta'): 32.0,\n",
    " ('Naranjal', 'Puerto Bolívar'): 30.0,\n",
    " ('Naranjal', 'Esmeraldas'): 60.0,\n",
    " ('Milagro', 'Guayaquil'): 8.0,\n",
    " ('Milagro', 'Manta'): 28.0,\n",
    " ('Milagro', 'Puerto Bolívar'): 26.0,\n",
    " ('Milagro', 'Esmeraldas'): 56.0,\n",
    " ('Babahoyo', 'Guayaquil'): 14.0,\n",
    " ('Babahoyo', 'Manta'): 34.0,\n",
    " ('Babahoyo', 'Puerto Bolívar'): 32.0,\n",
    " ('Babahoyo', 'Esmeraldas'): 62.0,\n",
    " ('Quevedo', 'Guayaquil'): 34.0,\n",
    " ('Quevedo', 'Manta'): 54.0,\n",
    " ('Quevedo', 'Puerto Bolívar'): 52.0,\n",
    " ('Quevedo', 'Esmeraldas'): 72.0\n",
    "}"
   ]
  },
  {
   "cell_type": "code",
   "execution_count": 114,
   "id": "80365f64",
   "metadata": {},
   "outputs": [],
   "source": [
    "# Listas de fincas y puertos"
   ]
  },
  {
   "cell_type": "code",
   "execution_count": 115,
   "id": "13652932",
   "metadata": {},
   "outputs": [],
   "source": [
    "FINCAS = list(Oferta.keys())"
   ]
  },
  {
   "cell_type": "code",
   "execution_count": 116,
   "id": "2cc67d36",
   "metadata": {},
   "outputs": [],
   "source": [
    "PUERTOS = list(Demanda.keys())"
   ]
  },
  {
   "cell_type": "code",
   "execution_count": 117,
   "id": "5ca0ba17",
   "metadata": {},
   "outputs": [],
   "source": [
    "# Crear el modelo de Pyomo"
   ]
  },
  {
   "cell_type": "code",
   "execution_count": 118,
   "id": "54130161",
   "metadata": {},
   "outputs": [],
   "source": [
    "modelo = ConcreteModel()"
   ]
  },
  {
   "cell_type": "code",
   "execution_count": 119,
   "id": "efa64171",
   "metadata": {},
   "outputs": [],
   "source": [
    "# Variables de decisión: toneladas de banano a transportar desde cada plantación a cada puerto"
   ]
  },
  {
   "cell_type": "code",
   "execution_count": 120,
   "id": "f88fe48b",
   "metadata": {},
   "outputs": [],
   "source": [
    "modelo.x = Var(FINCAS, PUERTOS, domain=NonNegativeReals)"
   ]
  },
  {
   "cell_type": "code",
   "execution_count": 121,
   "id": "f33f9659",
   "metadata": {},
   "outputs": [],
   "source": [
    "# Función objetivo: Minimizar costo de transporte"
   ]
  },
  {
   "cell_type": "code",
   "execution_count": 122,
   "id": "22c71d76",
   "metadata": {},
   "outputs": [],
   "source": [
    "modelo.CostoTransporte = Objective(\n",
    "    expr=sum(Costos[finca,puerto]*modelo.x[finca,puerto]\n",
    "            for finca in FINCAS\n",
    "            for puerto in PUERTOS),\n",
    "    sense=minimize)"
   ]
  },
  {
   "cell_type": "code",
   "execution_count": 123,
   "id": "45614a1c",
   "metadata": {},
   "outputs": [],
   "source": [
    "# Restricciones de capacidad de producción de las plantaciones"
   ]
  },
  {
   "cell_type": "code",
   "execution_count": 124,
   "id": "a8f1a9f6",
   "metadata": {},
   "outputs": [],
   "source": [
    "modelo.restriccionProduccion = ConstraintList()\n",
    "for finca in FINCAS:\n",
    "    modelo.restriccionProduccion.add(\n",
    "        sum(modelo.x[finca, puerto] for puerto in PUERTOS) <= Oferta[finca])"
   ]
  },
  {
   "cell_type": "code",
   "execution_count": 125,
   "id": "ffce1700",
   "metadata": {},
   "outputs": [],
   "source": [
    "# Restricciones para satisfacer la demanda de cada puerto"
   ]
  },
  {
   "cell_type": "code",
   "execution_count": 126,
   "id": "7adf4d35",
   "metadata": {},
   "outputs": [],
   "source": [
    "modelo.restriccionDemanda = ConstraintList()\n",
    "for puerto in PUERTOS:\n",
    "    modelo.restriccionDemanda.add(\n",
    "        sum(modelo.x[finca,puerto] for finca in FINCAS) == Demanda[puerto])"
   ]
  },
  {
   "cell_type": "code",
   "execution_count": 127,
   "id": "2743ff68",
   "metadata": {},
   "outputs": [],
   "source": [
    "# Resolver el modelo"
   ]
  },
  {
   "cell_type": "code",
   "execution_count": 128,
   "id": "a0c5cee9",
   "metadata": {},
   "outputs": [],
   "source": [
    "solucion = SolverFactory('glpk').solve(modelo)"
   ]
  },
  {
   "cell_type": "code",
   "execution_count": 129,
   "id": "3cb3302a",
   "metadata": {},
   "outputs": [],
   "source": [
    "# Imprimir resultados"
   ]
  },
  {
   "cell_type": "code",
   "execution_count": 130,
   "id": "c7ce9155",
   "metadata": {},
   "outputs": [
    {
     "name": "stdout",
     "output_type": "stream",
     "text": [
      "Costo Total de Transporte es USD: 120600.0\n",
      "Envíe desde la finca en Machala al puerto Puerto Bolívar 350.0 Toneladas\n",
      "Envíe desde la finca en Pasaje al puerto Puerto Bolívar 650.0 Toneladas\n",
      "Envíe desde la finca en Naranjal al puerto Guayaquil 750.0 Toneladas\n",
      "Envíe desde la finca en Milagro al puerto Manta 650.0 Toneladas\n",
      "Envíe desde la finca en Milagro al puerto Esmeraldas 125.0 Toneladas\n",
      "Envíe desde la finca en Babahoyo al puerto Guayaquil 350.0 Toneladas\n",
      "Envíe desde la finca en Babahoyo al puerto Manta 300.0 Toneladas\n",
      "Envíe desde la finca en Quevedo al puerto Esmeraldas 675.0 Toneladas\n"
     ]
    }
   ],
   "source": [
    "print(\"Costo Total de Transporte es USD:\", value(modelo.CostoTransporte))\n",
    "for finca in FINCAS:\n",
    "    for puerto in PUERTOS:\n",
    "        if value(modelo.x[finca,puerto]) > 0:\n",
    "            print(\"Envíe desde la finca en\", finca, \"al puerto\", puerto, value(modelo.x[finca,puerto]), \"Toneladas\")\n"
   ]
  },
  {
   "cell_type": "code",
   "execution_count": null,
   "id": "69cfabbe",
   "metadata": {},
   "outputs": [],
   "source": []
  },
  {
   "cell_type": "code",
   "execution_count": null,
   "id": "df248cbd",
   "metadata": {},
   "outputs": [],
   "source": []
  },
  {
   "cell_type": "code",
   "execution_count": null,
   "id": "699901e6",
   "metadata": {},
   "outputs": [],
   "source": []
  }
 ],
 "metadata": {
  "kernelspec": {
   "display_name": "Python 3",
   "language": "python",
   "name": "python3"
  },
  "language_info": {
   "codemirror_mode": {
    "name": "ipython",
    "version": 3
   },
   "file_extension": ".py",
   "mimetype": "text/x-python",
   "name": "python",
   "nbconvert_exporter": "python",
   "pygments_lexer": "ipython3",
   "version": "3.8.8"
  }
 },
 "nbformat": 4,
 "nbformat_minor": 5
}
